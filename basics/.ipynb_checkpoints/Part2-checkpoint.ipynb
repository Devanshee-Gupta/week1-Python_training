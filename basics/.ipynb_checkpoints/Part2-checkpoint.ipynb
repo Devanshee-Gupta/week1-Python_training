{
 "cells": [
  {
   "cell_type": "markdown",
   "id": "e0e93913-c820-4294-b528-5af464f295ac",
   "metadata": {},
   "source": [
    "# Basics of Python Part 02"
   ]
  },
  {
   "cell_type": "markdown",
   "id": "4beef0f9-f4de-4d10-b228-e81af17f65e7",
   "metadata": {},
   "source": [
    "## Operators"
   ]
  },
  {
   "cell_type": "markdown",
   "id": "28de35fc-be3a-461c-8677-112d3dcfb5cf",
   "metadata": {},
   "source": [
    "### Arithmetic Operators"
   ]
  },
  {
   "cell_type": "code",
   "execution_count": 1,
   "id": "15701c82-45f8-4a7f-9bd8-440ebc7df9bf",
   "metadata": {},
   "outputs": [
    {
     "name": "stdout",
     "output_type": "stream",
     "text": [
      "5\n",
      "-1\n",
      "6\n",
      "0.6666666666666666\n",
      "0\n",
      "2\n",
      "8\n"
     ]
    }
   ],
   "source": [
    "\n",
    "print(2+3)    # addition\n",
    "print(2-3)    # subtraction\n",
    "print(2*3)    # multiplication\n",
    "print(2/3)    # float division\n",
    "print(2//3)   # integer division\n",
    "print(2%3)    # modulus / remainder\n",
    "print(2**3)   # raise to power (here 2 raise to power 3)\n"
   ]
  },
  {
   "cell_type": "markdown",
   "id": "698ec8c3-7c4a-4eff-be68-8f6255f032f8",
   "metadata": {},
   "source": [
    "\n",
    "### Assignment Operators"
   ]
  },
  {
   "cell_type": "code",
   "execution_count": 2,
   "id": "ef1d39f6-c0f9-430e-b715-5ca118d61f69",
   "metadata": {},
   "outputs": [
    {
     "name": "stdout",
     "output_type": "stream",
     "text": [
      "5\n",
      "5 6\n"
     ]
    }
   ],
   "source": [
    "\n",
    "# assign value of right to left ( = operator )\n",
    "\n",
    "y = 5   # value 5 assigned to variable y\n",
    "print(y)\n",
    "\n",
    "a,b = 5,6  # two values assigned in single line\n",
    "print(a,b)\n"
   ]
  },
  {
   "cell_type": "markdown",
   "id": "006fead2-33d5-4354-875d-b1b269053137",
   "metadata": {},
   "source": [
    "\n",
    "### Relational Operators"
   ]
  },
  {
   "cell_type": "code",
   "execution_count": 3,
   "id": "0547d34d-4d6c-4ab6-90d1-033ee7bb5273",
   "metadata": {},
   "outputs": [
    {
     "name": "stdout",
     "output_type": "stream",
     "text": [
      "True\n",
      "True\n",
      "False\n",
      "False\n",
      "False\n",
      "True\n"
     ]
    }
   ],
   "source": [
    "\n",
    "# return a bool value (either true or false after evaluating the expression)\n",
    "\n",
    "print(2<3)    # less than\n",
    "print(2<=3)   # less than equal to\n",
    "print(2>3)    # greater than\n",
    "print(2>=3)   # greater than equal to\n",
    "print(2==3)   # equal to\n",
    "print(2!=3)   # not equal to\n"
   ]
  },
  {
   "cell_type": "markdown",
   "id": "f550ddef-7b44-4d02-8bd5-b7db7d83695e",
   "metadata": {},
   "source": [
    "\n",
    "### Logical Operators"
   ]
  },
  {
   "cell_type": "code",
   "execution_count": 4,
   "id": "f6b1a110-1bcf-4a97-a2ef-a05bd682c83c",
   "metadata": {},
   "outputs": [
    {
     "name": "stdout",
     "output_type": "stream",
     "text": [
      "False\n",
      "True\n",
      "False\n"
     ]
    }
   ],
   "source": [
    "\n",
    "a = 5\n",
    "b = 4\n",
    "\n",
    "print(a<4 and b<5)\n",
    "\n",
    "        # for 'and' -\n",
    "        # True + True = True \n",
    "        # T + F = F\n",
    "        # F + T = F\n",
    "        # F + F = F\n",
    "\n",
    "print(a>4 or b<3)\n",
    "\n",
    "        # for 'or' -\n",
    "        # True + True = True \n",
    "        # T + F = T\n",
    "        # F + T = T\n",
    "        # F + F = F\n",
    "\n",
    "x = True\n",
    "print(not x) \n",
    "        # not --> reverse \n",
    "        # for 'not' -\n",
    "        # True -> False \n",
    "        # False -> True\n"
   ]
  },
  {
   "cell_type": "markdown",
   "id": "63d57b37-c9ec-4585-87bd-465598936c43",
   "metadata": {},
   "source": [
    "### Unary Operators"
   ]
  },
  {
   "cell_type": "code",
   "execution_count": 5,
   "id": "2174b40a-3c20-42d1-a544-e1aa786db3c9",
   "metadata": {},
   "outputs": [
    {
     "name": "stdout",
     "output_type": "stream",
     "text": [
      "-7\n",
      "7\n"
     ]
    }
   ],
   "source": [
    "\n",
    "# ( - operator negates the sign )\n",
    "n = 7\n",
    "print(-n)\n",
    "\n",
    "n = -7\n",
    "print(-n)\n"
   ]
  },
  {
   "cell_type": "markdown",
   "id": "f1e74571-09d4-416f-92ff-66acc792a180",
   "metadata": {},
   "source": [
    "\n",
    "### Bitwise Operators"
   ]
  },
  {
   "cell_type": "code",
   "execution_count": 6,
   "id": "a77c9309-d202-4478-98a9-93033e006334",
   "metadata": {},
   "outputs": [
    {
     "name": "stdout",
     "output_type": "stream",
     "text": [
      "left shift 1280\n",
      "right shift 0\n",
      "bitwise and 0\n",
      "bitwise or 13\n",
      "complement of x -6\n",
      "bitwise exclusive or (xor) 13\n"
     ]
    }
   ],
   "source": [
    "\n",
    "x = 5\n",
    "y = 8\n",
    "\n",
    "# Returns x with the bits shifted to the left by y places (and new bits on the right-hand-side are zeros). \n",
    "# This is the same as multiplying x by 2 ** y ( 2 raise to power y) .\n",
    "print(\"left shift\",x<<y)\n",
    "\n",
    "# Returns x with the bits shifted to the right by y places. This is the same as integer dividing x by (2 ** y).\n",
    "print(\"right shift\",x >> y)\n",
    "\n",
    "# Does a \"bitwise and\". Each bit of the output is 1 if the corresponding bit of x AND of y is 1, otherwise it's 0.\n",
    "print(\"bitwise and\",x & y)\n",
    "\n",
    "# Does a \"bitwise or\". Each bit of the output is 0 if the corresponding bit of x AND of y is 0, otherwise it's 1.\n",
    "print(\"bitwise or\",x | y)\n",
    "\n",
    "# Returns the complement of x - the number you get by switching each 1 for a 0 and each 0 for a 1. \n",
    "# This is the same as -x - 1 (complement of x - 1).\n",
    "print(\"complement of x\",~x)\n",
    "\n",
    "# Does a \"bitwise exclusive or\". Each bit of the output is the same as the corresponding bit in x if that bit in y is 0, \n",
    "# and it's the complement of the bit in x if that bit in y is 1.\n",
    "print(\"bitwise exclusive or (xor)\",x^y)\n",
    "\n"
   ]
  },
  {
   "cell_type": "markdown",
   "id": "ffdf921a-d2d9-410a-b8ed-6ab7d3eb66a6",
   "metadata": {},
   "source": [
    "\n",
    "# Number System"
   ]
  },
  {
   "cell_type": "code",
   "execution_count": 7,
   "id": "22ecd621-15cc-4082-b149-43b3aae25faf",
   "metadata": {},
   "outputs": [
    {
     "name": "stdout",
     "output_type": "stream",
     "text": [
      "0b11001\n",
      "<class 'str'>\n",
      "0b11001\n",
      "<class 'str'>\n",
      "0b110001\n",
      "<class 'str'>\n"
     ]
    }
   ],
   "source": [
    "\n",
    "# decimal to binary\n",
    "\n",
    "x = bin(25)\n",
    "print(x)\n",
    "print(type(x))\n",
    "\n",
    "# octal to binary\n",
    "x = bin(0o31)\n",
    "print(x)\n",
    "print(type(x))\n",
    "\n",
    "# hexadecimal to binary\n",
    "x = bin(0x31)\n",
    "print(x)\n",
    "print(type(x))\n",
    "\n"
   ]
  },
  {
   "cell_type": "code",
   "execution_count": 8,
   "id": "907c1dc9-e197-47f4-92e8-c80906873dac",
   "metadata": {},
   "outputs": [
    {
     "name": "stdout",
     "output_type": "stream",
     "text": [
      "25\n",
      "25\n",
      "49\n"
     ]
    }
   ],
   "source": [
    "\n",
    "# binary to decimal\n",
    "# 0b denotes binary \n",
    "\n",
    "print(0b11001)\n",
    "\n",
    "# octal to decimal\n",
    "# 0o denotes octal \n",
    "\n",
    "print(0o31)\n",
    "\n",
    "# hexadecimal to decimal\n",
    "# 0x denotes hexadecimal \n",
    "\n",
    "print(0x31)\n",
    "\n"
   ]
  },
  {
   "cell_type": "code",
   "execution_count": 9,
   "id": "7a274f6f-1334-48d1-a5a2-ab4ff54d4ac7",
   "metadata": {},
   "outputs": [
    {
     "name": "stdout",
     "output_type": "stream",
     "text": [
      "0o31\n",
      "0o31\n",
      "0o61\n"
     ]
    }
   ],
   "source": [
    "\n",
    "# binary to octal\n",
    "\n",
    "x = oct(0b11001)\n",
    "print(x)\n",
    "\n",
    "# decimal to octal\n",
    "\n",
    "x = oct(25)\n",
    "print(x)\n",
    "\n",
    "# hexadecimal to octal\n",
    "\n",
    "x = oct(0x31)\n",
    "print(x)\n"
   ]
  },
  {
   "cell_type": "code",
   "execution_count": 10,
   "id": "89c88a78-1458-449d-93d1-892738902504",
   "metadata": {},
   "outputs": [
    {
     "name": "stdout",
     "output_type": "stream",
     "text": [
      "0x19\n",
      "0x19\n",
      "0x19\n"
     ]
    }
   ],
   "source": [
    "\n",
    "# binary to hexadecimal\n",
    "\n",
    "x = hex(0b11001)\n",
    "print(x)\n",
    "\n",
    "# octal to hexadecimal\n",
    "\n",
    "x = hex(0o31)\n",
    "print(x)\n",
    "\n",
    "# decimal to hexadecimal\n",
    "\n",
    "x = hex(25)\n",
    "print(x)"
   ]
  },
  {
   "cell_type": "markdown",
   "id": "593ed888-bf9b-40da-b573-2ff5818c5742",
   "metadata": {},
   "source": [
    "## Aliasing"
   ]
  },
  {
   "cell_type": "code",
   "execution_count": 5,
   "id": "64dc3e21-3a69-4168-9217-f2b90ba240be",
   "metadata": {},
   "outputs": [
    {
     "name": "stdout",
     "output_type": "stream",
     "text": [
      "2.23606797749979\n"
     ]
    }
   ],
   "source": [
    "\n",
    "# importing math library\n",
    "\n",
    "import math\n",
    "print(math.sqrt(5))  # printing square root of 5\n"
   ]
  },
  {
   "cell_type": "code",
   "execution_count": 6,
   "id": "cde3592e-3855-46f3-a31e-c41c073a3a7d",
   "metadata": {},
   "outputs": [
    {
     "name": "stdout",
     "output_type": "stream",
     "text": [
      "2.0\n"
     ]
    }
   ],
   "source": [
    "\n",
    "import math as m        # as used for aliasing\n",
    "\n",
    "print(m.sqrt(4))           # because of aliasing math can be represented as m\n"
   ]
  },
  {
   "cell_type": "markdown",
   "id": "fd4753fb-e4ec-42f6-bf12-6a25c909a510",
   "metadata": {},
   "source": [
    "\n",
    "## Math Library"
   ]
  },
  {
   "cell_type": "code",
   "execution_count": 10,
   "id": "dc03ce59-785e-48ed-a8b7-2478458bb023",
   "metadata": {},
   "outputs": [
    {
     "name": "stdout",
     "output_type": "stream",
     "text": [
      "2.0\n",
      "16.0\n",
      "4\n",
      "5\n",
      "3.141592653589793\n",
      "2.718281828459045\n"
     ]
    }
   ],
   "source": [
    "\n",
    "import math as m        # as used for aliasing\n",
    "\n",
    "# square root\n",
    "print(m.sqrt(4))\n",
    "\n",
    "# power(x,y) x raise to power y\n",
    "print(m.pow(4,2))\n",
    "\n",
    "# floor\n",
    "print(m.floor(4.6))\n",
    "\n",
    "# ceil\n",
    "print(m.ceil(4.6))\n",
    "\n",
    "# value of pi\n",
    "print(m.pi)\n",
    "\n",
    "# value of e\n",
    "print(m.e)\n"
   ]
  },
  {
   "cell_type": "code",
   "execution_count": null,
   "id": "9a905be3-5d6e-4988-a702-babd868662d9",
   "metadata": {},
   "outputs": [],
   "source": []
  }
 ],
 "metadata": {
  "kernelspec": {
   "display_name": "Python 3 (ipykernel)",
   "language": "python",
   "name": "python3"
  },
  "language_info": {
   "codemirror_mode": {
    "name": "ipython",
    "version": 3
   },
   "file_extension": ".py",
   "mimetype": "text/x-python",
   "name": "python",
   "nbconvert_exporter": "python",
   "pygments_lexer": "ipython3",
   "version": "3.12.1"
  }
 },
 "nbformat": 4,
 "nbformat_minor": 5
}
