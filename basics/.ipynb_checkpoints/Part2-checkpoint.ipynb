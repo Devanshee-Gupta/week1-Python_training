{
 "cells": [
  {
   "cell_type": "markdown",
   "id": "e0e93913-c820-4294-b528-5af464f295ac",
   "metadata": {},
   "source": [
    "# Basics of Python Part 02"
   ]
  },
  {
   "cell_type": "markdown",
   "id": "4beef0f9-f4de-4d10-b228-e81af17f65e7",
   "metadata": {},
   "source": [
    "## Operators"
   ]
  },
  {
   "cell_type": "markdown",
   "id": "28de35fc-be3a-461c-8677-112d3dcfb5cf",
   "metadata": {},
   "source": [
    "### Arithmetic Operators"
   ]
  },
  {
   "cell_type": "code",
   "execution_count": 1,
   "id": "15701c82-45f8-4a7f-9bd8-440ebc7df9bf",
   "metadata": {},
   "outputs": [
    {
     "name": "stdout",
     "output_type": "stream",
     "text": [
      "5\n",
      "-1\n",
      "6\n",
      "0.6666666666666666\n",
      "0\n",
      "2\n",
      "8\n"
     ]
    }
   ],
   "source": [
    "\n",
    "print(2+3)    # addition\n",
    "print(2-3)    # subtraction\n",
    "print(2*3)    # multiplication\n",
    "print(2/3)    # float division\n",
    "print(2//3)   # integer division\n",
    "print(2%3)    # modulus or remainder\n",
    "print(2**3)   # raise to power (here 2 raise to power 3)\n"
   ]
  },
  {
   "cell_type": "markdown",
   "id": "698ec8c3-7c4a-4eff-be68-8f6255f032f8",
   "metadata": {},
   "source": [
    "\n",
    "### Assignment Operators"
   ]
  },
  {
   "cell_type": "code",
   "execution_count": 2,
   "id": "ef1d39f6-c0f9-430e-b715-5ca118d61f69",
   "metadata": {},
   "outputs": [
    {
     "name": "stdout",
     "output_type": "stream",
     "text": [
      "5\n",
      "5 6\n"
     ]
    }
   ],
   "source": [
    "\n",
    "# assign value of right to left ( = operator )\n",
    "\n",
    "y = 5   # value 5 assigned to variable y\n",
    "print(y)\n",
    "\n",
    "a,b = 5,6  # two values assigned in single line\n",
    "print(a,b)\n"
   ]
  },
  {
   "cell_type": "markdown",
   "id": "006fead2-33d5-4354-875d-b1b269053137",
   "metadata": {},
   "source": [
    "\n",
    "### Relational Operators"
   ]
  },
  {
   "cell_type": "code",
   "execution_count": 3,
   "id": "0547d34d-4d6c-4ab6-90d1-033ee7bb5273",
   "metadata": {},
   "outputs": [
    {
     "name": "stdout",
     "output_type": "stream",
     "text": [
      "True\n",
      "True\n",
      "False\n",
      "False\n",
      "False\n",
      "True\n"
     ]
    }
   ],
   "source": [
    "\n",
    "# return a bool value (either true or false after evaluating the expression)\n",
    "\n",
    "print(2<3)    # less than\n",
    "print(2<=3)   # less than equal to\n",
    "print(2>3)    # greater than\n",
    "print(2>=3)   # greater than equal to\n",
    "print(2==3)   # equal to\n",
    "print(2!=3)   # not equal to\n"
   ]
  },
  {
   "cell_type": "markdown",
   "id": "f550ddef-7b44-4d02-8bd5-b7db7d83695e",
   "metadata": {},
   "source": [
    "\n",
    "### Logical Operators"
   ]
  },
  {
   "cell_type": "code",
   "execution_count": 4,
   "id": "f6b1a110-1bcf-4a97-a2ef-a05bd682c83c",
   "metadata": {},
   "outputs": [
    {
     "name": "stdout",
     "output_type": "stream",
     "text": [
      "False\n",
      "True\n",
      "False\n"
     ]
    }
   ],
   "source": [
    "\n",
    "a = 5\n",
    "b = 4\n",
    "\n",
    "print(a<4 and b<5)\n",
    "\n",
    "        # for 'and' -\n",
    "        # True + True = True \n",
    "        # T + F = F\n",
    "        # F + T = F\n",
    "        # F + F = F\n",
    "\n",
    "print(a>4 or b<3)\n",
    "\n",
    "        # for 'or' -\n",
    "        # True + True = True \n",
    "        # T + F = T\n",
    "        # F + T = T\n",
    "        # F + F = F\n",
    "\n",
    "x = True\n",
    "print(not x) \n",
    "        # not --> reverse \n",
    "        # for 'not' -\n",
    "        # True -> False \n",
    "        # False -> True\n"
   ]
  },
  {
   "cell_type": "markdown",
   "id": "63d57b37-c9ec-4585-87bd-465598936c43",
   "metadata": {},
   "source": [
    "### Unary Operators"
   ]
  },
  {
   "cell_type": "code",
   "execution_count": 5,
   "id": "2174b40a-3c20-42d1-a544-e1aa786db3c9",
   "metadata": {},
   "outputs": [
    {
     "name": "stdout",
     "output_type": "stream",
     "text": [
      "-7\n",
      "7\n"
     ]
    }
   ],
   "source": [
    "\n",
    "# ( - operator negates the sign )\n",
    "n = 7\n",
    "print(-n)\n",
    "\n",
    "n = -7\n",
    "print(-n)\n"
   ]
  },
  {
   "cell_type": "markdown",
   "id": "f1e74571-09d4-416f-92ff-66acc792a180",
   "metadata": {},
   "source": [
    "\n",
    "### Bitwise Operators"
   ]
  },
  {
   "cell_type": "code",
   "execution_count": 6,
   "id": "a77c9309-d202-4478-98a9-93033e006334",
   "metadata": {},
   "outputs": [
    {
     "name": "stdout",
     "output_type": "stream",
     "text": [
      "left shift 1280\n",
      "right shift 0\n",
      "bitwise and 0\n",
      "bitwise or 13\n",
      "complement of x -6\n",
      "bitwise exclusive or (xor) 13\n"
     ]
    }
   ],
   "source": [
    "\n",
    "x = 5\n",
    "y = 8\n",
    "\n",
    "# Returns x with the bits shifted to the left by y places (and new bits on the right-hand-side are zeros). \n",
    "# This is the same as multiplying x by 2 ** y ( 2 raise to power y) .\n",
    "print(\"left shift\",x<<y)\n",
    "\n",
    "# Returns x with the bits shifted to the right by y places. This is the same as integer dividing x by (2 ** y).\n",
    "print(\"right shift\",x >> y)\n",
    "\n",
    "# Does a \"bitwise and\". Each bit of the output is 1 if the corresponding bit of x AND of y is 1, otherwise it's 0.\n",
    "print(\"bitwise and\",x & y)\n",
    "\n",
    "# Does a \"bitwise or\". Each bit of the output is 0 if the corresponding bit of x AND of y is 0, otherwise it's 1.\n",
    "print(\"bitwise or\",x | y)\n",
    "\n",
    "# Returns the complement of x - the number you get by switching each 1 for a 0 and each 0 for a 1. \n",
    "# This is the same as -x - 1 (complement of x - 1).\n",
    "print(\"complement of x\",~x)\n",
    "\n",
    "# Does a \"bitwise exclusive or\". Each bit of the output is the same as the corresponding bit in x if that bit in y is 0, \n",
    "# and it's the complement of the bit in x if that bit in y is 1.\n",
    "print(\"bitwise exclusive or (xor)\",x^y)\n",
    "\n"
   ]
  },
  {
   "cell_type": "markdown",
   "id": "ffdf921a-d2d9-410a-b8ed-6ab7d3eb66a6",
   "metadata": {},
   "source": [
    "\n",
    "# Number System"
   ]
  },
  {
   "cell_type": "code",
   "execution_count": 7,
   "id": "22ecd621-15cc-4082-b149-43b3aae25faf",
   "metadata": {},
   "outputs": [
    {
     "name": "stdout",
     "output_type": "stream",
     "text": [
      "0b11001\n",
      "<class 'str'>\n",
      "0b11001\n",
      "<class 'str'>\n",
      "0b110001\n",
      "<class 'str'>\n"
     ]
    }
   ],
   "source": [
    "\n",
    "# decimal to binary\n",
    "\n",
    "x = bin(25)\n",
    "print(x)\n",
    "print(type(x))\n",
    "\n",
    "# octal to binary\n",
    "x = bin(0o31)\n",
    "print(x)\n",
    "print(type(x))\n",
    "\n",
    "# hexadecimal to binary\n",
    "x = bin(0x31)\n",
    "print(x)\n",
    "print(type(x))\n",
    "\n"
   ]
  },
  {
   "cell_type": "code",
   "execution_count": 8,
   "id": "907c1dc9-e197-47f4-92e8-c80906873dac",
   "metadata": {},
   "outputs": [
    {
     "name": "stdout",
     "output_type": "stream",
     "text": [
      "25\n",
      "25\n",
      "49\n"
     ]
    }
   ],
   "source": [
    "\n",
    "# binary to decimal\n",
    "# 0b denotes binary \n",
    "\n",
    "print(0b11001)\n",
    "\n",
    "# octal to decimal\n",
    "# 0o denotes octal \n",
    "\n",
    "print(0o31)\n",
    "\n",
    "# hexadecimal to decimal\n",
    "# 0x denotes hexadecimal \n",
    "\n",
    "print(0x31)\n",
    "\n"
   ]
  },
  {
   "cell_type": "code",
   "execution_count": 9,
   "id": "7a274f6f-1334-48d1-a5a2-ab4ff54d4ac7",
   "metadata": {},
   "outputs": [
    {
     "name": "stdout",
     "output_type": "stream",
     "text": [
      "0o31\n",
      "0o31\n",
      "0o61\n"
     ]
    }
   ],
   "source": [
    "\n",
    "# binary to octal\n",
    "\n",
    "x = oct(0b11001)\n",
    "print(x)\n",
    "\n",
    "# decimal to octal\n",
    "\n",
    "x = oct(25)\n",
    "print(x)\n",
    "\n",
    "# hexadecimal to octal\n",
    "\n",
    "x = oct(0x31)\n",
    "print(x)\n"
   ]
  },
  {
   "cell_type": "code",
   "execution_count": 10,
   "id": "89c88a78-1458-449d-93d1-892738902504",
   "metadata": {},
   "outputs": [
    {
     "name": "stdout",
     "output_type": "stream",
     "text": [
      "0x19\n",
      "0x19\n",
      "0x19\n"
     ]
    }
   ],
   "source": [
    "\n",
    "# binary to hexadecimal\n",
    "\n",
    "x = hex(0b11001)\n",
    "print(x)\n",
    "\n",
    "# octal to hexadecimal\n",
    "\n",
    "x = hex(0o31)\n",
    "print(x)\n",
    "\n",
    "# decimal to hexadecimal\n",
    "\n",
    "x = hex(25)\n",
    "print(x)"
   ]
  },
  {
   "cell_type": "markdown",
   "id": "593ed888-bf9b-40da-b573-2ff5818c5742",
   "metadata": {},
   "source": [
    "## Aliasing"
   ]
  },
  {
   "cell_type": "code",
   "execution_count": 11,
   "id": "64dc3e21-3a69-4168-9217-f2b90ba240be",
   "metadata": {},
   "outputs": [
    {
     "name": "stdout",
     "output_type": "stream",
     "text": [
      "2.23606797749979\n"
     ]
    }
   ],
   "source": [
    "\n",
    "# importing math library\n",
    "\n",
    "import math\n",
    "print(math.sqrt(5))  # printing square root of 5\n"
   ]
  },
  {
   "cell_type": "code",
   "execution_count": 12,
   "id": "cde3592e-3855-46f3-a31e-c41c073a3a7d",
   "metadata": {},
   "outputs": [
    {
     "name": "stdout",
     "output_type": "stream",
     "text": [
      "2.0\n"
     ]
    }
   ],
   "source": [
    "\n",
    "import math as m        # as used for aliasing\n",
    "\n",
    "print(m.sqrt(4))           # because of aliasing math can be represented as m\n"
   ]
  },
  {
   "cell_type": "markdown",
   "id": "fd4753fb-e4ec-42f6-bf12-6a25c909a510",
   "metadata": {},
   "source": [
    "\n",
    "## Math Library"
   ]
  },
  {
   "cell_type": "code",
   "execution_count": 13,
   "id": "dc03ce59-785e-48ed-a8b7-2478458bb023",
   "metadata": {},
   "outputs": [
    {
     "name": "stdout",
     "output_type": "stream",
     "text": [
      "2.0\n",
      "16.0\n",
      "4\n",
      "5\n",
      "3.141592653589793\n",
      "2.718281828459045\n"
     ]
    }
   ],
   "source": [
    "\n",
    "import math as m        # as used for aliasing\n",
    "\n",
    "# square root\n",
    "print(m.sqrt(4))\n",
    "\n",
    "# power(x,y) x raise to power y\n",
    "print(m.pow(4,2))\n",
    "\n",
    "# floor\n",
    "print(m.floor(4.6))\n",
    "\n",
    "# ceil\n",
    "print(m.ceil(4.6))\n",
    "\n",
    "# value of pi\n",
    "print(m.pi)\n",
    "\n",
    "# value of e\n",
    "print(m.e)\n"
   ]
  },
  {
   "cell_type": "markdown",
   "id": "b2d84ac0-377a-4c9f-8c61-dc42acf95fee",
   "metadata": {},
   "source": [
    "\n",
    "## User Input"
   ]
  },
  {
   "cell_type": "code",
   "execution_count": 14,
   "id": "a45e4f34-0558-4cf8-bc41-e8a3742bfedc",
   "metadata": {},
   "outputs": [
    {
     "name": "stdin",
     "output_type": "stream",
     "text": [
      "enter value :  5\n"
     ]
    },
    {
     "name": "stdout",
     "output_type": "stream",
     "text": [
      "5\n",
      "<class 'str'>\n"
     ]
    }
   ],
   "source": [
    "\n",
    "x = input(\"enter value : \")  # for taking input from user\n",
    "print(x)\n",
    "print(type(x))               # input() function gives input in string format always\n"
   ]
  },
  {
   "cell_type": "code",
   "execution_count": 15,
   "id": "88bddf43-69ac-4d66-b9ac-d7c965154900",
   "metadata": {},
   "outputs": [
    {
     "name": "stdin",
     "output_type": "stream",
     "text": [
      "enter value :  5\n"
     ]
    },
    {
     "name": "stdout",
     "output_type": "stream",
     "text": [
      "5\n",
      "<class 'int'>\n",
      "10\n"
     ]
    }
   ],
   "source": [
    "\n",
    "# typecast it to integer\n",
    "x = int(input(\"enter value : \"))\n",
    "print(x)\n",
    "print(type(x))\n",
    "\n",
    "y = x + 5\n",
    "print(y)\n"
   ]
  },
  {
   "cell_type": "code",
   "execution_count": 16,
   "id": "70e85aaf-843a-48f7-8fa4-c3a8350f3506",
   "metadata": {},
   "outputs": [
    {
     "name": "stdin",
     "output_type": "stream",
     "text": [
      "enter expression :  2+5-6\n"
     ]
    },
    {
     "name": "stdout",
     "output_type": "stream",
     "text": [
      "1\n",
      "<class 'int'>\n"
     ]
    }
   ],
   "source": [
    "\n",
    "# eval() to evaluate an expression \n",
    "x = eval(input(\"enter expression : \"))\n",
    "print(x)\n",
    "print(type(x))\n"
   ]
  },
  {
   "cell_type": "markdown",
   "id": "76111d54-fa9c-4b6c-a5bd-b9cdae290a51",
   "metadata": {},
   "source": [
    "## Conditional statements"
   ]
  },
  {
   "cell_type": "markdown",
   "id": "b6ea2794-3211-41ec-8b21-b6e1fede9294",
   "metadata": {},
   "source": [
    "### If :"
   ]
  },
  {
   "cell_type": "code",
   "execution_count": 17,
   "id": "80e4449e-6d01-47e0-b817-ac4dd3ed46ac",
   "metadata": {},
   "outputs": [
    {
     "name": "stdout",
     "output_type": "stream",
     "text": [
      "inside the if\n",
      "3 less than 5\n"
     ]
    }
   ],
   "source": [
    "\n",
    "if True:\n",
    "    print(\"inside the if\")\n",
    "\n",
    "if(3<5):\n",
    "    print(\"3 less than 5\")\n",
    "    "
   ]
  },
  {
   "cell_type": "markdown",
   "id": "8e3e645f-ee6d-469f-a881-aeeb22c27f02",
   "metadata": {},
   "source": [
    "\n",
    "### If - Else :"
   ]
  },
  {
   "cell_type": "code",
   "execution_count": 18,
   "id": "d58e6d8a-bd58-437f-b3f1-dfdcadbc5c08",
   "metadata": {},
   "outputs": [
    {
     "name": "stdout",
     "output_type": "stream",
     "text": [
      "inside the else\n",
      "3 less than 5\n"
     ]
    }
   ],
   "source": [
    "\n",
    "if False:\n",
    "    print(\"inside the if\")\n",
    "else:\n",
    "    print(\"inside the else\")\n",
    "\n",
    "\n",
    "if(3>5):\n",
    "    print(\"3 greater than 5\")\n",
    "else:\n",
    "    print(\"3 less than 5\")\n",
    "    "
   ]
  },
  {
   "cell_type": "markdown",
   "id": "8758e310-e598-4d20-8ab8-4e13192f02f8",
   "metadata": {},
   "source": [
    "\n",
    "### if - Elif - else :"
   ]
  },
  {
   "cell_type": "code",
   "execution_count": 19,
   "id": "cc58df32-908a-4ea2-933d-e1af8dafd13d",
   "metadata": {},
   "outputs": [
    {
     "name": "stdout",
     "output_type": "stream",
     "text": [
      "inside the elif\n",
      "3 less than 4\n"
     ]
    }
   ],
   "source": [
    "\n",
    "if False:\n",
    "    print(\"inside the if\")\n",
    "elif True:\n",
    "    print(\"inside the elif\")\n",
    "else:\n",
    "    print(\"inside the else\")\n",
    "\n",
    "\n",
    "if(3>5):\n",
    "    print(\"3 greater than 5\")\n",
    "elif(3<4):\n",
    "    print(\"3 less than 4\")\n",
    "else:\n",
    "    print(\"inside else\")\n",
    "    "
   ]
  },
  {
   "cell_type": "code",
   "execution_count": 20,
   "id": "cb3a42d2-bd44-429b-8828-757fdb3cbf6d",
   "metadata": {},
   "outputs": [
    {
     "name": "stdout",
     "output_type": "stream",
     "text": [
      "inside the else\n",
      "inside else\n"
     ]
    }
   ],
   "source": [
    "\n",
    "if False:\n",
    "    print(\"inside the if\")\n",
    "elif False:\n",
    "    print(\"inside the elif\")\n",
    "else:\n",
    "    print(\"inside the else\")\n",
    "\n",
    "\n",
    "if(3>5):\n",
    "    print(\"3 greater than 5\")\n",
    "elif(3>6):\n",
    "    print(\"3 greater than 6\")\n",
    "else:\n",
    "    print(\"inside else\")\n"
   ]
  },
  {
   "cell_type": "markdown",
   "id": "bb4d99f0-b0d9-431f-b7b6-e01713ab940a",
   "metadata": {},
   "source": [
    "## Loops"
   ]
  },
  {
   "cell_type": "markdown",
   "id": "003fb717-f143-484e-89a1-0588908e3d15",
   "metadata": {},
   "source": [
    "### While Loop"
   ]
  },
  {
   "cell_type": "code",
   "execution_count": 21,
   "id": "9de982da-644f-4315-b046-e08114345a8b",
   "metadata": {},
   "outputs": [
    {
     "name": "stdout",
     "output_type": "stream",
     "text": [
      "0 1 2 3 4 "
     ]
    }
   ],
   "source": [
    "\n",
    "i = 0\n",
    "while(i<5):\n",
    "    print(i,end=\" \")   # end=\" \" for printing in same line, on the new line is not printed\n",
    "    i+=1\n"
   ]
  },
  {
   "cell_type": "markdown",
   "id": "4806a28d-4534-48a2-9593-fe345797c68b",
   "metadata": {},
   "source": [
    "\n",
    "### For Loop"
   ]
  },
  {
   "cell_type": "code",
   "execution_count": 22,
   "id": "bffdc337-8f3a-45c7-9da0-ee9e66bccd42",
   "metadata": {},
   "outputs": [
    {
     "name": "stdout",
     "output_type": "stream",
     "text": [
      "0 1 2 3 4 "
     ]
    }
   ],
   "source": [
    "\n",
    "for i in range(0,5):\n",
    "    print(i,end=\" \")\n",
    "    "
   ]
  },
  {
   "cell_type": "markdown",
   "id": "81742714-76bb-412b-8949-84da8cb5f314",
   "metadata": {},
   "source": [
    "## Break"
   ]
  },
  {
   "cell_type": "code",
   "execution_count": 23,
   "id": "9c7e9a49-8a86-44ac-8ff8-c9dae90e16cb",
   "metadata": {},
   "outputs": [
    {
     "name": "stdout",
     "output_type": "stream",
     "text": [
      "0 1 "
     ]
    }
   ],
   "source": [
    "\n",
    "for i in range(0,5):\n",
    "    if(i==2):\n",
    "        break              # break terminates the loop (here when the condition is met, when i is 2\n",
    "    print(i,end=\" \")\n",
    "    "
   ]
  },
  {
   "cell_type": "markdown",
   "id": "1a5879d1-3920-4160-b1f3-03f9c63efd57",
   "metadata": {},
   "source": [
    "\n",
    "## Continue"
   ]
  },
  {
   "cell_type": "code",
   "execution_count": 24,
   "id": "9c5e3d5b-bc81-44b9-89de-757de815eb89",
   "metadata": {},
   "outputs": [
    {
     "name": "stdout",
     "output_type": "stream",
     "text": [
      "0 1 3 4 "
     ]
    }
   ],
   "source": [
    "\n",
    "for i in range(0,5):\n",
    "    if(i==2):\n",
    "        continue              # continue skips the loop iteration when the condition is met, here when i is 2\n",
    "    print(i,end=\" \")\n",
    "    "
   ]
  },
  {
   "cell_type": "markdown",
   "id": "615e5a6c-d05c-4b0d-9df7-7dcfaedddffb",
   "metadata": {},
   "source": [
    "## Pass"
   ]
  },
  {
   "cell_type": "code",
   "execution_count": 25,
   "id": "4bdf9097-367b-4531-b260-f5ff39cc5071",
   "metadata": {},
   "outputs": [
    {
     "name": "stdout",
     "output_type": "stream",
     "text": [
      "0\n",
      "1\n",
      "2\n",
      "4\n"
     ]
    }
   ],
   "source": [
    "\n",
    "for i in range(0,5):\n",
    "    if(i==3):\n",
    "        pass                 # pass represents when nothing is to write, can't assign empty\n",
    "    else:\n",
    "        print(i)\n",
    "    "
   ]
  },
  {
   "cell_type": "markdown",
   "id": "7de1ef60-302a-48a4-bbcd-d10501f3fec9",
   "metadata": {},
   "source": [
    "## Numpy array"
   ]
  },
  {
   "cell_type": "code",
   "execution_count": 26,
   "id": "a0ed0518-4818-4d13-a2c4-91b4c322062f",
   "metadata": {},
   "outputs": [
    {
     "name": "stdout",
     "output_type": "stream",
     "text": [
      "Requirement already satisfied: numpy in /opt/homebrew/Cellar/jupyterlab/4.0.10/libexec/lib/python3.12/site-packages (1.26.3)\n",
      "\n",
      "\u001b[1m[\u001b[0m\u001b[34;49mnotice\u001b[0m\u001b[1;39;49m]\u001b[0m\u001b[39;49m A new release of pip is available: \u001b[0m\u001b[31;49m23.3.1\u001b[0m\u001b[39;49m -> \u001b[0m\u001b[32;49m23.3.2\u001b[0m\n",
      "\u001b[1m[\u001b[0m\u001b[34;49mnotice\u001b[0m\u001b[1;39;49m]\u001b[0m\u001b[39;49m To update, run: \u001b[0m\u001b[32;49m/opt/homebrew/Cellar/jupyterlab/4.0.10/libexec/bin/python -m pip install --upgrade pip\u001b[0m\n",
      "Note: you may need to restart the kernel to use updated packages.\n"
     ]
    }
   ],
   "source": [
    "pip install numpy"
   ]
  },
  {
   "cell_type": "code",
   "execution_count": 27,
   "id": "c674a6d6-3798-4d01-8724-909d6283c645",
   "metadata": {},
   "outputs": [
    {
     "name": "stdout",
     "output_type": "stream",
     "text": [
      "[1 2 3 4 5]\n"
     ]
    }
   ],
   "source": [
    "\n",
    "# numpy array\n",
    "import numpy as np\n",
    "arr = np.array([1,2,3,4,5])\n",
    "print(arr)\n"
   ]
  },
  {
   "cell_type": "code",
   "execution_count": 28,
   "id": "8e1877b5-be88-4414-b3c9-a58460f6b899",
   "metadata": {},
   "outputs": [
    {
     "name": "stdout",
     "output_type": "stream",
     "text": [
      "5\n"
     ]
    }
   ],
   "source": [
    "print(arr.size)   # no. of elements in array"
   ]
  },
  {
   "cell_type": "code",
   "execution_count": 29,
   "id": "6717b5fa-4820-4b29-98be-ba8cdc78bd04",
   "metadata": {},
   "outputs": [
    {
     "name": "stdout",
     "output_type": "stream",
     "text": [
      "1\n"
     ]
    }
   ],
   "source": [
    "print(arr.ndim)  # dimension of array"
   ]
  },
  {
   "cell_type": "code",
   "execution_count": 30,
   "id": "94ab34ff-9530-4706-892f-1fbbc2f0e4d0",
   "metadata": {},
   "outputs": [
    {
     "name": "stdout",
     "output_type": "stream",
     "text": [
      "(2, 5)\n"
     ]
    }
   ],
   "source": [
    "\n",
    "arr = np.array([\n",
    "    [1,2,3,4,5],\n",
    "    [6,7,8,9,10]])\n",
    "\n",
    "print(arr.shape)  # rows and columns of array"
   ]
  },
  {
   "cell_type": "code",
   "execution_count": 35,
   "id": "25934eeb-3ccc-43d4-90a2-70efdb995835",
   "metadata": {},
   "outputs": [
    {
     "name": "stdout",
     "output_type": "stream",
     "text": [
      "15\n",
      "[0.         0.69314718 1.09861229 1.38629436 1.60943791]\n",
      "[1.         1.41421356 1.73205081 2.         2.23606798]\n",
      "1\n",
      "5\n"
     ]
    }
   ],
   "source": [
    "from numpy import *\n",
    "\n",
    "arr = array([1,2,3,4,5])\n",
    "print(sum(arr))        # sum of all elements of array\n",
    "\n",
    "print(log(arr))        # log of all elements of array individually\n",
    "\n",
    "print(sqrt(arr))       # square root of all elements of array individually\n",
    "\n",
    "print(min(arr))        # minimum among all elements of array\n",
    "\n",
    "print(max(arr))        # maximum among all elements of array\n"
   ]
  },
  {
   "cell_type": "code",
   "execution_count": 36,
   "id": "750254f3-d11a-4270-bbb7-69aaa3cde1b1",
   "metadata": {},
   "outputs": [
    {
     "name": "stdout",
     "output_type": "stream",
     "text": [
      "[ 1  2  3  4  5  6  7  8  9 10]\n"
     ]
    }
   ],
   "source": [
    "\n",
    "arr1 = np.array([1,2,3,4,5])\n",
    "\n",
    "arr2 = np.array([6,7,8,9,10])\n",
    "\n",
    "print(concatenate([arr1,arr2]))   # concatenation of array 1 and array 2"
   ]
  },
  {
   "cell_type": "markdown",
   "id": "f12d3b38-0739-4d0c-bf9e-03f35916da60",
   "metadata": {},
   "source": [
    "#### 2D/ Multidimensional array using Numpy"
   ]
  },
  {
   "cell_type": "code",
   "execution_count": 37,
   "id": "58118457-ee37-48bc-8584-528346de9f20",
   "metadata": {},
   "outputs": [
    {
     "name": "stdout",
     "output_type": "stream",
     "text": [
      "[[ 1  2  3  4  5]\n",
      " [ 6  7  8  9 10]]\n",
      "(2, 5)\n",
      "2\n",
      "10\n"
     ]
    }
   ],
   "source": [
    "\n",
    "# 2-D array \n",
    "\n",
    "arr = np.array([\n",
    "    [1,2,3,4,5],\n",
    "    [6,7,8,9,10]])\n",
    "\n",
    "print(arr)\n",
    "\n",
    "print(arr.shape)\n",
    "print(arr.ndim)\n",
    "print(arr.size)\n"
   ]
  },
  {
   "cell_type": "code",
   "execution_count": 38,
   "id": "ed520eec-b19b-4cee-94f6-0219718cc8ed",
   "metadata": {},
   "outputs": [
    {
     "name": "stdout",
     "output_type": "stream",
     "text": [
      "[ 1  2  3  4  5  6  7  8  9 10]\n"
     ]
    }
   ],
   "source": [
    "arr = np.array([\n",
    "    [1,2,3,4,5],\n",
    "    [6,7,8,9,10]])\n",
    "\n",
    "print(arr.flatten())    # n - dimensional array to 1-D array\n"
   ]
  },
  {
   "cell_type": "code",
   "execution_count": 39,
   "id": "6ba35a35-e060-4d9d-98da-629b2e3a8511",
   "metadata": {},
   "outputs": [
    {
     "name": "stdout",
     "output_type": "stream",
     "text": [
      "[[ 1  2]\n",
      " [ 3  4]\n",
      " [ 5  6]\n",
      " [ 7  8]\n",
      " [ 9 10]]\n"
     ]
    }
   ],
   "source": [
    "\n",
    "arr = np.array([1,2,3,4,5,6,7,8,9,10])\n",
    "print(arr.reshape(5,2))         # converts into array of 5 rows and 2 columns\n"
   ]
  },
  {
   "cell_type": "code",
   "execution_count": 42,
   "id": "305d9d18-235e-4469-9b4b-f031336f492d",
   "metadata": {},
   "outputs": [
    {
     "name": "stdout",
     "output_type": "stream",
     "text": [
      "matrix arr1 : \n",
      "\n",
      " [[ 1  2  3  4  5]\n",
      " [ 6  7  8  9 10]]\n",
      "\n",
      " matrix arr2 : \n",
      "\n",
      " [[ 1  2  3  4  5]\n",
      " [10  9  8  7  6]]\n"
     ]
    }
   ],
   "source": [
    "\n",
    "arr = np.array([\n",
    "    [1,2,3,4,5],\n",
    "    [6,7,8,9,10]])\n",
    "\n",
    "# convert array to matrix (to access multiple functionalities of matrices)\n",
    "arr1 = matrix(arr)\n",
    "\n",
    "# or\n",
    "\n",
    "arr2 = matrix(\"1 2 3 4 5; 10 9 8 7 6\")\n",
    "\n",
    "# printing matrix\n",
    "print(\"matrix arr1 : \\n\\n\",arr1)\n",
    "print(\"\\n matrix arr2 : \\n\\n\",arr2)\n"
   ]
  },
  {
   "cell_type": "code",
   "execution_count": 43,
   "id": "c96d7e8c-8305-4e84-97e8-25e88e54c8c9",
   "metadata": {},
   "outputs": [
    {
     "name": "stdout",
     "output_type": "stream",
     "text": [
      " addition of matrices : \n",
      "\n",
      " [[ 2  4  6  8 10]\n",
      " [16 16 16 16 16]]\n",
      "\n",
      "\n",
      " subtraction of matrices : \n",
      "\n",
      " [[ 0  0  0  0  0]\n",
      " [-4 -2  0  2  4]]\n"
     ]
    }
   ],
   "source": [
    "\n",
    "# addition of matrices\n",
    "\n",
    "print(\" addition of matrices : \\n\\n\",arr1 + arr2)\n",
    "\n",
    "# subtraction of matrices\n",
    "\n",
    "print(\"\\n\\n subtraction of matrices : \\n\\n\",arr1 - arr2)\n",
    "\n"
   ]
  },
  {
   "cell_type": "code",
   "execution_count": 44,
   "id": "09dad075-40c6-46f0-9b7f-652f810b320b",
   "metadata": {},
   "outputs": [
    {
     "name": "stdout",
     "output_type": "stream",
     "text": [
      "multiplication of matrices : \n",
      "\n",
      " [[  6  32  41  42  23]\n",
      " [ 27 133 190 167 120]]\n"
     ]
    }
   ],
   "source": [
    "\n",
    "arr1 = matrix(\"1 2 3; 10 9 8\")\n",
    "arr2 = matrix(\"1 2 7 4 5; 1 9 8 7 6; 1 4 6 8 2\")\n",
    "\n",
    "# multiplication of matrices\n",
    "\n",
    "print(\"multiplication of matrices : \\n\\n\",arr1 * arr2)"
   ]
  },
  {
   "cell_type": "code",
   "execution_count": 45,
   "id": "5fd43412-6a86-4c8b-b341-b40734478905",
   "metadata": {},
   "outputs": [
    {
     "name": "stdout",
     "output_type": "stream",
     "text": [
      "[1 9 6]\n",
      "1\n",
      "9\n",
      "[[1 1 1]\n",
      " [2 9 4]\n",
      " [7 8 6]\n",
      " [4 7 8]\n",
      " [5 6 2]]\n"
     ]
    }
   ],
   "source": [
    "\n",
    "\n",
    "arr2 = matrix(\"1 2 7 4 5; 1 9 8 7 6; 1 4 6 8 2\")\n",
    "\n",
    "# diagonal of matrix\n",
    "print(diagonal(arr2))\n",
    "\n",
    "# minimum element in matrix\n",
    "print(arr2.min())\n",
    "\n",
    "# maximum element in matrix\n",
    "print(arr2.max())\n",
    "\n",
    "# transpose of matrix\n",
    "print(transpose(arr2))\n"
   ]
  },
  {
   "cell_type": "code",
   "execution_count": null,
   "id": "62fd8d39-7c6b-4535-94b1-e53c8eedd8cb",
   "metadata": {},
   "outputs": [],
   "source": []
  },
  {
   "cell_type": "markdown",
   "id": "6a329bd8-96a2-4436-a72b-8c4935ee05fb",
   "metadata": {},
   "source": [
    "\n",
    "## Copying Array "
   ]
  },
  {
   "cell_type": "markdown",
   "id": "9d291931-6177-4663-836d-7fc7e850bf3f",
   "metadata": {},
   "source": [
    "### Shallow Copy"
   ]
  },
  {
   "cell_type": "code",
   "execution_count": 46,
   "id": "c718c4f3-ea91-4eda-8268-09d2a0345d89",
   "metadata": {},
   "outputs": [
    {
     "name": "stdout",
     "output_type": "stream",
     "text": [
      "[1 2 3 4 5]\n",
      "4647921840\n",
      "4567883600\n",
      "arr1 : [ 1  2 10  4  5]\n",
      "arr2 : [ 1  2 10  4  5]\n",
      "4647921840\n",
      "4567883600\n"
     ]
    }
   ],
   "source": [
    "\n",
    "arr1 = np.array([1,2,3,4,5])\n",
    "arr2 = arr1.view()               # shallow copy\n",
    "print(arr2)\n",
    "print(id(arr1))\n",
    "print(id(arr2))\n",
    "\n",
    "# it is shallow copy as arr2 is copy of arr1 but both are still 'dependent' on each other\n",
    "arr1[2]=10\n",
    "\n",
    "print(\"arr1 :\",arr1)         # value changed in arr1\n",
    "print(\"arr2 :\",arr2)         # but point to notice, value changed in arr2 as well\n",
    "print(id(arr1))\n",
    "print(id(arr2))\n",
    "\n"
   ]
  },
  {
   "cell_type": "markdown",
   "id": "23769aa8-25d9-4042-82e0-4ce7ee186824",
   "metadata": {},
   "source": [
    "### Deep Copy"
   ]
  },
  {
   "cell_type": "code",
   "execution_count": 47,
   "id": "921368ef-caec-41a9-b73e-c1813402b3db",
   "metadata": {},
   "outputs": [
    {
     "name": "stdout",
     "output_type": "stream",
     "text": [
      "[1 2 3 4 5]\n",
      "4647920304\n",
      "4647918864\n",
      "arr1 : [ 1  2 10  4  5]\n",
      "arr2 : [1 2 3 4 5]\n",
      "4647920304\n",
      "4647918864\n"
     ]
    }
   ],
   "source": [
    "\n",
    "arr1 = np.array([1,2,3,4,5])\n",
    "arr2 = arr1.copy()               # deep copy\n",
    "print(arr2)\n",
    "print(id(arr1))\n",
    "print(id(arr2))\n",
    "\n",
    "# it is deep copy as arr2 is copy of arr1 and both are 'independent' on each other\n",
    "arr1[2]=10\n",
    "\n",
    "print(\"arr1 :\",arr1)         # value changed in arr1\n",
    "print(\"arr2 :\",arr2)         # but point to notice, value not changed in arr2\n",
    "print(id(arr1))\n",
    "print(id(arr2))"
   ]
  },
  {
   "cell_type": "markdown",
   "id": "bab6052c-0883-447f-aa1c-11faa18aae51",
   "metadata": {},
   "source": [
    "## Functions"
   ]
  },
  {
   "cell_type": "code",
   "execution_count": 48,
   "id": "8294dde3-2fde-41fe-9cab-ff4a34564f09",
   "metadata": {},
   "outputs": [
    {
     "name": "stdout",
     "output_type": "stream",
     "text": [
      "hello world\n"
     ]
    }
   ],
   "source": [
    "\n",
    "# function definition\n",
    "\n",
    "def greet():                # keyword 'def'\n",
    "    print(\"hello world\")\n",
    "\n",
    "# calling function greet\n",
    "greet()"
   ]
  },
  {
   "cell_type": "code",
   "execution_count": 49,
   "id": "55b8db66-123f-42e8-bbe2-4360f5dbde6f",
   "metadata": {},
   "outputs": [
    {
     "name": "stdout",
     "output_type": "stream",
     "text": [
      "8\n"
     ]
    }
   ],
   "source": [
    "\n",
    "# function returning something (can return anything set, dictionary, list and so on... )\n",
    "\n",
    "def add(x,y):\n",
    "    return x + y\n",
    "\n",
    "returned_value = add(5,3)\n",
    "print(returned_value)\n"
   ]
  },
  {
   "cell_type": "code",
   "execution_count": 50,
   "id": "8767935e-a93b-4f63-af46-283a62c99c7e",
   "metadata": {},
   "outputs": [],
   "source": [
    "def add(x,y):\n",
    "    pass            # empty function\n",
    "\n",
    "add(5,3)"
   ]
  },
  {
   "cell_type": "code",
   "execution_count": 51,
   "id": "2d1efe84-d394-4843-8214-c3b3fdb706dc",
   "metadata": {},
   "outputs": [
    {
     "name": "stdout",
     "output_type": "stream",
     "text": [
      "8 2\n"
     ]
    }
   ],
   "source": [
    "# function returning multiple values\n",
    "\n",
    "def add_sub(x,y):\n",
    "    return x+y, x-y\n",
    "\n",
    "returned_value1, returned_value2 = add_sub(5,3)\n",
    "print(returned_value1,returned_value2)\n"
   ]
  },
  {
   "cell_type": "markdown",
   "id": "3cc35645-5965-432e-9d69-465a6092c89a",
   "metadata": {},
   "source": [
    "### Types of arguments\n",
    "\n",
    "- Formal Arguments\n",
    "- Actual Arguments"
   ]
  },
  {
   "cell_type": "code",
   "execution_count": 52,
   "id": "bf714612-f033-43cd-bc74-8a0d129f7111",
   "metadata": {},
   "outputs": [
    {
     "name": "stdout",
     "output_type": "stream",
     "text": [
      "8\n"
     ]
    }
   ],
   "source": [
    "\n",
    "def add(x,y):               # ( in definition of function, parameters/arguments x and y are formal arguments )\n",
    "    return x + y\n",
    "\n",
    "returned_value = add(5,3)   # ( in calling of function, parameters/arguments passed, here 5 and 3, are actual arguments )\n",
    "print(returned_value)\n"
   ]
  },
  {
   "cell_type": "markdown",
   "id": "82fc393d-8cb4-48ac-b89b-1df64454f07e",
   "metadata": {},
   "source": [
    "### Types of actual arguments\n",
    "\n",
    "- Position\n",
    "- Keyword\n",
    "- Default\n",
    "- Variable length\n",
    "- Keyworded variable length"
   ]
  },
  {
   "cell_type": "markdown",
   "id": "6d9c67b8-82c5-44b6-9e9d-5b7992049dc2",
   "metadata": {},
   "source": [
    "### 1. Position"
   ]
  },
  {
   "cell_type": "code",
   "execution_count": 53,
   "id": "b9e74625-5548-4ee8-9221-3412cf81be10",
   "metadata": {},
   "outputs": [
    {
     "name": "stdout",
     "output_type": "stream",
     "text": [
      "devanshee\n",
      "15\n"
     ]
    }
   ],
   "source": [
    "\n",
    "\n",
    "def person(name,age):\n",
    "    print(name)\n",
    "    print(age-5)\n",
    "\n",
    "person('devanshee',20)     #  actual arguments\n",
    "\n",
    "# arguments assigned as per position 1st element to 1st one (i.e. devanshee --> name) and 2nd one with 2nd (i.e. 20 --> age)\n",
    "# if position of actual arguments changed, it will give error as devanshee will be assigned to age,\n",
    "# and age-5 can't be done as age is a string now.\n"
   ]
  },
  {
   "cell_type": "markdown",
   "id": "229a13bb-0f4a-412d-b76c-0e75adc06de7",
   "metadata": {},
   "source": [
    "### 2. Keyword"
   ]
  },
  {
   "cell_type": "code",
   "execution_count": 54,
   "id": "0e88e37c-6016-439b-bb4e-e6acc4dbeb66",
   "metadata": {},
   "outputs": [
    {
     "name": "stdout",
     "output_type": "stream",
     "text": [
      "devanshee\n",
      "15\n"
     ]
    }
   ],
   "source": [
    "\n",
    "# Keyword  (can be used to avoid above problem of passing arguments at their postion only)\n",
    "\n",
    "def person(name,age):\n",
    "    print(name)\n",
    "    print(age-5)\n",
    "\n",
    "person(age = 20, name = 'devanshee')     #  actual arguments\n",
    "\n",
    "# arguments assigned as per keywords 'age' element to age (i.e. 20 --> age) and 'name' element with name (i.e. devanshee --> name)\n",
    "# if position of actual arguments changed, it will not give error.\n",
    "\n"
   ]
  },
  {
   "cell_type": "markdown",
   "id": "f6501219-7cfa-44ed-9c1c-15df63105dc2",
   "metadata": {},
   "source": [
    "### 3. Default"
   ]
  },
  {
   "cell_type": "code",
   "execution_count": 55,
   "id": "fbc69a79-6bbb-4185-b89f-16d42d37be17",
   "metadata": {},
   "outputs": [
    {
     "name": "stdout",
     "output_type": "stream",
     "text": [
      "devanshee\n",
      "10\n"
     ]
    }
   ],
   "source": [
    "\n",
    "\n",
    "def person(name,age = 10):\n",
    "    print(name)\n",
    "    print(age)\n",
    "\n",
    "person('devanshee')     #  actual arguments\n",
    "\n",
    "# arguments assigned as per position 1st element to 1st one (i.e. devanshee --> name) and age is not passed.\n",
    "# it won't cause error because default value is passed to age (default value to be used in case of not specifically provided) \n",
    "\n"
   ]
  },
  {
   "cell_type": "markdown",
   "id": "ccbc36bb-e4ee-453d-916b-5ed07123f851",
   "metadata": {},
   "source": [
    "### 4. Variable length"
   ]
  },
  {
   "cell_type": "code",
   "execution_count": 56,
   "id": "7c8415f4-e9a2-47db-b8ee-5b556677c240",
   "metadata": {},
   "outputs": [
    {
     "name": "stdout",
     "output_type": "stream",
     "text": [
      "a:  2\n",
      "b:  (3, 4, 5, 6, 7)\n",
      "a:  2\n",
      "b:  (3, 4, 5)\n"
     ]
    }
   ],
   "source": [
    "\n",
    "\n",
    "def fun(a, *b):      # only 2 formal arguments\n",
    "    print(\"a: \",a) \n",
    "    print(\"b: \",b)\n",
    "\n",
    "fun(2,3,4,5,6,7)     #  variable length actual arguments\n",
    "fun(2,3,4,5)\n",
    "\n",
    "# arguments assigned as per position 1st element to 1st one (i.e. 2 --> a) and rest all is assigned to b in form of tuple.\n"
   ]
  },
  {
   "cell_type": "markdown",
   "id": "cdb107b3-d977-438e-b8d3-f790a6909cd5",
   "metadata": {},
   "source": [
    "### 5. Keyworded Variable length arguments ( **kwargs )"
   ]
  },
  {
   "cell_type": "code",
   "execution_count": 57,
   "id": "4375d2ec-dece-49ce-b2c8-2a782fb28645",
   "metadata": {},
   "outputs": [
    {
     "name": "stdout",
     "output_type": "stream",
     "text": [
      "name:  devanshee\n",
      "dict:  {'age': 20, 'weight': 42}\n",
      "name:  deveshi\n",
      "dict:  {'age': 21}\n"
     ]
    }
   ],
   "source": [
    "\n",
    "\n",
    "def fun(name, **dict):      # only 2 formal arguments\n",
    "    print(\"name: \",name) \n",
    "    print(\"dict: \",dict)\n",
    "\n",
    "fun('devanshee',age=20,weight=42)        #  variable length actual arguments along with keywords\n",
    "\n",
    "# arguments assigned as per position 1st element to 1st one (i.e. 'devanshee' --> name) and\n",
    "# rest all is assigned to b in form of dictionary (key-value pair).\n",
    "\n",
    "# another example -\n",
    "fun('deveshi',age=21)\n"
   ]
  },
  {
   "cell_type": "code",
   "execution_count": null,
   "id": "37883ca1-0873-4a40-a373-bcc883e66672",
   "metadata": {},
   "outputs": [],
   "source": []
  }
 ],
 "metadata": {
  "kernelspec": {
   "display_name": "Python 3 (ipykernel)",
   "language": "python",
   "name": "python3"
  },
  "language_info": {
   "codemirror_mode": {
    "name": "ipython",
    "version": 3
   },
   "file_extension": ".py",
   "mimetype": "text/x-python",
   "name": "python",
   "nbconvert_exporter": "python",
   "pygments_lexer": "ipython3",
   "version": "3.12.1"
  }
 },
 "nbformat": 4,
 "nbformat_minor": 5
}
