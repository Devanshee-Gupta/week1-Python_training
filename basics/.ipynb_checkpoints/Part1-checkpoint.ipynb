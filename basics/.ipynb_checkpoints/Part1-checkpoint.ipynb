{
 "cells": [
  {
   "cell_type": "markdown",
   "id": "22385ec4-a314-47bd-8d3d-954130fdbd58",
   "metadata": {},
   "source": [
    "# Basics of Python ( Part 01 )"
   ]
  },
  {
   "cell_type": "markdown",
   "id": "e6016da8-5c1f-4620-9606-d2703a329d12",
   "metadata": {},
   "source": [
    "### print() function"
   ]
  },
  {
   "cell_type": "code",
   "execution_count": 37,
   "id": "189c7665-e22e-4278-b19d-19d16a67ccc4",
   "metadata": {},
   "outputs": [
    {
     "name": "stdout",
     "output_type": "stream",
     "text": [
      "hello world\n"
     ]
    }
   ],
   "source": [
    "# to print output\n",
    "\n",
    "print(\"hello world\")"
   ]
  },
  {
   "cell_type": "markdown",
   "id": "de0295cb-382b-4d2e-a297-0af28af4f3ee",
   "metadata": {},
   "source": [
    "### Normal arithmetics"
   ]
  },
  {
   "cell_type": "code",
   "execution_count": 38,
   "id": "37d6394c-d3a1-477c-9a0e-3b262b543bab",
   "metadata": {},
   "outputs": [
    {
     "name": "stdout",
     "output_type": "stream",
     "text": [
      "8\n",
      "2\n",
      "15\n",
      "1.6666666666666667\n",
      "1\n",
      "2\n"
     ]
    }
   ],
   "source": [
    "# addition \n",
    "print(5+3)\n",
    "\n",
    "# subtraction\n",
    "print(5-3)\n",
    "\n",
    "# multiplication\n",
    "print(5*3)\n",
    "\n",
    "# division \n",
    "\n",
    "print(5/3)           #  1. float division\n",
    "\n",
    "print(5//3)          #  2. Integer division\n",
    "\n",
    "\n",
    "# remainder (modulus)\n",
    "print(5%3)\n"
   ]
  },
  {
   "cell_type": "markdown",
   "id": "31b03b73-cbc8-42cd-8ddc-c3d8634698af",
   "metadata": {},
   "source": [
    "### Variables"
   ]
  },
  {
   "cell_type": "code",
   "execution_count": 39,
   "id": "e190beea-c010-4955-a51d-c1c8444612df",
   "metadata": {},
   "outputs": [
    {
     "name": "stdout",
     "output_type": "stream",
     "text": [
      "2\n",
      "6\n"
     ]
    }
   ],
   "source": [
    "x = 2               # integer value 2 stored in variable x\n",
    "print(x)\n",
    "\n",
    "x = 6               # value stored in x is changed to 6\n",
    "print(x)\n",
    "\n"
   ]
  },
  {
   "cell_type": "code",
   "execution_count": 40,
   "id": "96aa207d-32d7-448e-817b-8b39297aa444",
   "metadata": {},
   "outputs": [
    {
     "data": {
      "text/plain": [
       "10"
      ]
     },
     "execution_count": 40,
     "metadata": {},
     "output_type": "execute_result"
    }
   ],
   "source": [
    "10"
   ]
  },
  {
   "cell_type": "code",
   "execution_count": 69,
   "id": "9deec2e6-5345-4bac-b0bb-e8cb1eb16294",
   "metadata": {},
   "outputs": [
    {
     "name": "stdout",
     "output_type": "stream",
     "text": [
      "16\n"
     ]
    }
   ],
   "source": [
    "print(_+6)          # ( '_' underscore always represents the result of previous operation performed in this case last output was 10)"
   ]
  },
  {
   "cell_type": "code",
   "execution_count": 70,
   "id": "4cfa82a6-b246-466c-a16b-0bf03e2c49ca",
   "metadata": {},
   "outputs": [
    {
     "name": "stdout",
     "output_type": "stream",
     "text": [
      "4425262320\n"
     ]
    }
   ],
   "source": [
    "x = 'hii'\n",
    "\n",
    "# address of variable\n",
    "print(id(x))\n"
   ]
  },
  {
   "cell_type": "code",
   "execution_count": 72,
   "id": "84e788ff-3bb6-49e8-9cc8-47c1d8c4e8d2",
   "metadata": {},
   "outputs": [
    {
     "name": "stdout",
     "output_type": "stream",
     "text": [
      "<class 'float'>\n"
     ]
    }
   ],
   "source": [
    "\n",
    "# print type of variable\n",
    "x = 3.145\n",
    "print(type(x))\n"
   ]
  },
  {
   "cell_type": "markdown",
   "id": "9e0ac8b9-0227-4bbb-98ee-7ba20f164288",
   "metadata": {},
   "source": [
    "# Datatypes"
   ]
  },
  {
   "cell_type": "markdown",
   "id": "ef0621b0-9f43-48be-9d6a-7364bea59573",
   "metadata": {},
   "source": [
    "## 1. None"
   ]
  },
  {
   "cell_type": "code",
   "execution_count": 75,
   "id": "ae36e826-7ac2-458c-a54a-ca0475931754",
   "metadata": {},
   "outputs": [
    {
     "ename": "NameError",
     "evalue": "name 'y' is not defined",
     "output_type": "error",
     "traceback": [
      "\u001b[0;31m---------------------------------------------------------------------------\u001b[0m",
      "\u001b[0;31mNameError\u001b[0m                                 Traceback (most recent call last)",
      "Cell \u001b[0;32mIn[75], line 1\u001b[0m\n\u001b[0;32m----> 1\u001b[0m \u001b[43my\u001b[49m\n\u001b[1;32m      2\u001b[0m \u001b[38;5;28mprint\u001b[39m(y)\n",
      "\u001b[0;31mNameError\u001b[0m: name 'y' is not defined"
     ]
    }
   ],
   "source": [
    "y\n",
    "print(y)"
   ]
  },
  {
   "cell_type": "code",
   "execution_count": 76,
   "id": "825e25bf-6798-4726-919b-60b8d9fcaffe",
   "metadata": {},
   "outputs": [
    {
     "name": "stdout",
     "output_type": "stream",
     "text": [
      "None\n"
     ]
    }
   ],
   "source": [
    "# since any value must be assigned to y so in case of not assigning a value\n",
    "y = None    # same as null value assigned to variable\n",
    "print(y)"
   ]
  },
  {
   "cell_type": "markdown",
   "id": "412af7bb-e555-47a5-9502-9a267ce537fc",
   "metadata": {},
   "source": [
    "## 2. Numeric"
   ]
  },
  {
   "cell_type": "markdown",
   "id": "78ed4f19-7d8d-4498-9b31-48b6a23cc36d",
   "metadata": {},
   "source": [
    "#### 2.1 Int datatype"
   ]
  },
  {
   "cell_type": "code",
   "execution_count": 78,
   "id": "e6ac0543-0992-4119-9c1f-40e571e323e0",
   "metadata": {},
   "outputs": [
    {
     "name": "stdout",
     "output_type": "stream",
     "text": [
      "<class 'int'>\n"
     ]
    }
   ],
   "source": [
    "x = 2\n",
    "print(type(x))\n"
   ]
  },
  {
   "cell_type": "markdown",
   "id": "ce9745b1-4c9b-4919-9075-43d32f8e1c31",
   "metadata": {},
   "source": [
    "#### 2.2 float datatype"
   ]
  },
  {
   "cell_type": "code",
   "execution_count": 80,
   "id": "20ffb83f-8b9f-49e9-b3c7-692fb33c1e32",
   "metadata": {},
   "outputs": [
    {
     "name": "stdout",
     "output_type": "stream",
     "text": [
      "<class 'float'>\n"
     ]
    }
   ],
   "source": [
    "x = 5.678\n",
    "print(type(x))\n"
   ]
  },
  {
   "cell_type": "code",
   "execution_count": 88,
   "id": "c65c7ae5-45b6-4a20-a6b0-a4fbd5bcb459",
   "metadata": {},
   "outputs": [
    {
     "name": "stdout",
     "output_type": "stream",
     "text": [
      "2.0\n"
     ]
    }
   ],
   "source": [
    "\n",
    "# typecasting\n",
    "\n",
    "# int to float\n",
    "x = 2\n",
    "print(float(x))\n"
   ]
  },
  {
   "cell_type": "code",
   "execution_count": 89,
   "id": "2428b99c-7955-4a12-b371-e2c5949df13c",
   "metadata": {},
   "outputs": [
    {
     "name": "stdout",
     "output_type": "stream",
     "text": [
      "2\n"
     ]
    }
   ],
   "source": [
    "\n",
    "# typecasting\n",
    "\n",
    "# float to int\n",
    "x = 2.8967\n",
    "print(int(x))\n"
   ]
  },
  {
   "cell_type": "markdown",
   "id": "e2561f8d-0525-4feb-8078-90e81329dd95",
   "metadata": {},
   "source": [
    "#### 2.3 complex datatype"
   ]
  },
  {
   "cell_type": "code",
   "execution_count": 83,
   "id": "d0dc076c-9c05-4f61-a644-259ef1b9a73e",
   "metadata": {},
   "outputs": [
    {
     "name": "stdout",
     "output_type": "stream",
     "text": [
      "<class 'complex'>\n"
     ]
    }
   ],
   "source": [
    "x = 3j+2\n",
    "print(type(x))\n"
   ]
  },
  {
   "cell_type": "code",
   "execution_count": 92,
   "id": "e396da30-e8da-4da3-9fa6-954644e04e59",
   "metadata": {},
   "outputs": [
    {
     "name": "stdout",
     "output_type": "stream",
     "text": [
      "(2+3j)\n",
      "(2.54+3.56j)\n"
     ]
    }
   ],
   "source": [
    "\n",
    "# typecasting\n",
    "\n",
    "# int to complex\n",
    "x = 2\n",
    "y = 3\n",
    "print(complex(x,y))\n",
    "\n",
    "# float to complex\n",
    "x = 2.54\n",
    "y = 3.56\n",
    "print(complex(x,y))\n"
   ]
  },
  {
   "cell_type": "markdown",
   "id": "f0b3e700-db5c-405e-9ce1-5c5a1e1b1367",
   "metadata": {},
   "source": [
    "#### 2.4 bool datatype"
   ]
  },
  {
   "cell_type": "code",
   "execution_count": 86,
   "id": "97daa74e-1b90-4092-9daf-56dd94fb9cef",
   "metadata": {},
   "outputs": [
    {
     "name": "stdout",
     "output_type": "stream",
     "text": [
      "<class 'bool'>\n",
      "it is True or 1 \n"
     ]
    }
   ],
   "source": [
    "x = True           # True == 1 and False == 0\n",
    "print(type(x))\n",
    "\n",
    "if x==1:\n",
    "    print(\"it is True or 1 \")\n",
    "else:\n",
    "    print(\"it is False or 0 \")\n"
   ]
  },
  {
   "cell_type": "code",
   "execution_count": 93,
   "id": "0b7fab20-b66f-4dfc-85bb-d3939f7c6804",
   "metadata": {},
   "outputs": [
    {
     "name": "stdout",
     "output_type": "stream",
     "text": [
      "1\n",
      "0\n"
     ]
    }
   ],
   "source": [
    "# typecasting\n",
    "\n",
    "# bool to int\n",
    "print(int(True))\n",
    "print(int(False))\n"
   ]
  },
  {
   "cell_type": "markdown",
   "id": "f57138c8-1aec-4713-8b3f-e00521786ece",
   "metadata": {},
   "source": [
    "## 3. Strings"
   ]
  },
  {
   "cell_type": "code",
   "execution_count": 73,
   "id": "a2140042-b411-4197-a1f2-2dbbb7e00911",
   "metadata": {},
   "outputs": [
    {
     "name": "stdout",
     "output_type": "stream",
     "text": [
      "devanshee\n"
     ]
    }
   ],
   "source": [
    "\n",
    "name = 'devanshee'   # string value stored in variable\n",
    "print(name) \n"
   ]
  },
  {
   "cell_type": "code",
   "execution_count": 48,
   "id": "3bd5a6ba-d751-422c-bf00-92b1235fbc88",
   "metadata": {},
   "outputs": [
    {
     "name": "stdout",
     "output_type": "stream",
     "text": [
      "d s e\n",
      "d s e\n"
     ]
    }
   ],
   "source": [
    "# 0 based indexing in python\n",
    "\n",
    "# string - d  e  v  a  n  s  h  e  e\n",
    "\n",
    "# index -  0  1  2  3  4  5  6  7  8       ( forward indexing )\n",
    "#         -9 -8 -7 -6 -5 -4 -3 -2 -1       ( backward indexing )\n",
    "\n",
    "# print character at index 0,5,8 in string  ( general syntax ------> string_name[index] either by using forward indexing or backward )\n",
    "\n",
    "print(name[0], name[5], name[8])  # forward indexing\n",
    "\n",
    "print(name[-9], name[-4], name[-1])  # backward indexing\n"
   ]
  },
  {
   "cell_type": "code",
   "execution_count": 94,
   "id": "af71b02b-9f1b-4bf3-bd7b-737812922ae5",
   "metadata": {},
   "outputs": [
    {
     "name": "stdout",
     "output_type": "stream",
     "text": [
      "slice\n",
      "sie\n",
      "slice\n",
      "ice this\n",
      "slice this\n"
     ]
    }
   ],
   "source": [
    "\n",
    "# print subarray of string (slicing a string)\n",
    "\n",
    "str = \"slice this\"  # (either double quotes or single quotes can be used to represent string)\n",
    "print(str[0:5])     # syntax -------> string_name[start_index:end_index] \n",
    "\n",
    "                    # end_index is not inclusive and start_index is inclusive\n",
    "\n",
    "print(str[0:5:2])   # general syntax -------> string_name[start_index:end_index,step] by default if step not mentioned step is 1 (like above) .\n",
    "\n",
    "print(str[:5])      # if start_index not mentioned ----> by default 0\n",
    "\n",
    "print(str[2:])      # if end_index not mentioned ------> by default ending index of string\n",
    "\n",
    "print(str[:])       # whole string\n"
   ]
  },
  {
   "cell_type": "code",
   "execution_count": 95,
   "id": "1da30799-1113-4d8e-97e5-60463a5d8574",
   "metadata": {},
   "outputs": [
    {
     "name": "stdout",
     "output_type": "stream",
     "text": [
      "s\n",
      "\n",
      "ecil\n",
      "sh\n",
      "siht ecils\n"
     ]
    }
   ],
   "source": [
    "\n",
    "# above was using forward indexing\n",
    "\n",
    "# now using backward indexing\n",
    "\n",
    "str = \"slice this\"\n",
    "\n",
    "\n",
    "\n",
    "\n",
    "# if step is not mentioned or (mentioned step > = 1):\n",
    "       # if start_index not mentioned -> by default index 0\n",
    "       # or if end_index not mentioned -> by default ending index of string\n",
    "                            # (moves forward)\n",
    "\n",
    "print(str[-1:])        # starting from index -1 move forward till end of string\n",
    "\n",
    "\n",
    "\n",
    "# if mentioned step < 0 :\n",
    "    # (moves backward)\n",
    "    # to move backward from a start position to ending one, start_index must be greater than end_index\n",
    "\n",
    "    # if start_index not mentioned in this case -> by default last index of string\n",
    "    # or if end_index not mentioned -> by default index 0\n",
    "        \n",
    "\n",
    "print(str[0:4:-1])    # 0 is start_index and 4 is end_index, step<0 and start_index is less than end_index so ----> no output \n",
    "\n",
    "print(str[4:0:-1])    # now it will print output  \n",
    "\n",
    "print(str[:-4:-2])    # starting_index is last index and end_index is -4 so move backward from last index to index -4 by step 2 (step= -2)\n",
    "\n",
    "print(str[::-1])      # reverse string\n"
   ]
  },
  {
   "cell_type": "code",
   "execution_count": 96,
   "id": "d5ee9bba-9e13-4c12-9c9e-7fd53c142318",
   "metadata": {},
   "outputs": [],
   "source": [
    "\n",
    "# string is immutable\n",
    "# can't make changes in characters of string\n",
    "# str[0] = 'm'  -----> (X) (can't)\n",
    "# str[0:3]= 'hi' -----> (X) (can't)\n"
   ]
  },
  {
   "cell_type": "markdown",
   "id": "4f4c7caa-a9d7-4acd-b3f6-a3e8b4ce25b9",
   "metadata": {},
   "source": [
    "## 3. List"
   ]
  },
  {
   "cell_type": "code",
   "execution_count": 98,
   "id": "08cabf5c-db90-4ae0-9248-1dfccb5bdc81",
   "metadata": {},
   "outputs": [
    {
     "name": "stdout",
     "output_type": "stream",
     "text": [
      "[1, 2, 3, 4, 5]\n",
      "<class 'list'>\n"
     ]
    }
   ],
   "source": [
    "\n",
    "# square brackets\n",
    "\n",
    "x = [1,2,3,4,5]\n",
    "print(x)\n",
    "print(type(x))\n"
   ]
  },
  {
   "cell_type": "markdown",
   "id": "84cebbdb-d77c-4404-9594-d5e8f2593f26",
   "metadata": {},
   "source": [
    "## 4. Tuple"
   ]
  },
  {
   "cell_type": "code",
   "execution_count": 99,
   "id": "65e2db0c-918d-4093-9b09-d5ab393b35cd",
   "metadata": {},
   "outputs": [
    {
     "name": "stdout",
     "output_type": "stream",
     "text": [
      "(1, 2, 3, 4, 5)\n",
      "<class 'tuple'>\n"
     ]
    }
   ],
   "source": [
    "\n",
    "# round brackets\n",
    "\n",
    "x=(1,2,3,4,5)\n",
    "print(x)\n",
    "print(type(x))\n"
   ]
  },
  {
   "cell_type": "markdown",
   "id": "448c0b6a-d42f-46b4-a51c-d17c84fb2beb",
   "metadata": {},
   "source": [
    "## 5. Set"
   ]
  },
  {
   "cell_type": "code",
   "execution_count": 100,
   "id": "cdf7a43d-8809-44e2-8db4-3404f6e049cc",
   "metadata": {},
   "outputs": [
    {
     "name": "stdout",
     "output_type": "stream",
     "text": [
      "{1, 2, 3, 4, 5}\n",
      "<class 'set'>\n"
     ]
    }
   ],
   "source": [
    "\n",
    "# set stores only distinct values\n",
    "# curly brackets\n",
    "x={1,2,3,4,5,1,2}\n",
    "print(x)\n",
    "print(type(x))\n"
   ]
  },
  {
   "cell_type": "markdown",
   "id": "7d993b84-0632-4f77-92be-709cdcb00b81",
   "metadata": {},
   "source": [
    "## 6. Dictionary"
   ]
  },
  {
   "cell_type": "code",
   "execution_count": 101,
   "id": "e6a74a90-c712-4fcb-b399-37096d11b80a",
   "metadata": {},
   "outputs": [
    {
     "name": "stdout",
     "output_type": "stream",
     "text": [
      "{'name': 'devanshee', 'age': 20}\n",
      "<class 'dict'>\n"
     ]
    }
   ],
   "source": [
    "\n",
    "# key value pair in curly brackets\n",
    "x = { 'name' : 'devanshee' , 'age' : 20 }\n",
    "print(x)\n",
    "print(type(x))\n"
   ]
  },
  {
   "cell_type": "markdown",
   "id": "1b7f5c44-0507-405b-9156-695ed74a1abc",
   "metadata": {},
   "source": [
    "## 7. Range"
   ]
  },
  {
   "cell_type": "code",
   "execution_count": 105,
   "id": "6dec6914-f466-410e-af3d-4d615323e922",
   "metadata": {},
   "outputs": [
    {
     "name": "stdout",
     "output_type": "stream",
     "text": [
      "range(0, 5)\n",
      "<class 'range'>\n",
      "[0, 1, 2, 3, 4]\n",
      "<class 'list'>\n"
     ]
    }
   ],
   "source": [
    "\n",
    "# creates continuous series from start_index to end_index --> range(start_index.end_index)\n",
    "x = range(0,5)\n",
    "print(x)\n",
    "print(type(x))\n",
    "\n",
    "# changing range datatype to list\n",
    "x=list(range(0,5))   # end_index is not inclusive (i.e. for range(0,5) numbers will be from 0 to 4 only)\n",
    "print(x)\n",
    "print(type(x))\n"
   ]
  },
  {
   "cell_type": "code",
   "execution_count": null,
   "id": "fc03fa81-392e-4b36-8f25-7a72b57bb66e",
   "metadata": {},
   "outputs": [],
   "source": []
  }
 ],
 "metadata": {
  "kernelspec": {
   "display_name": "Python 3 (ipykernel)",
   "language": "python",
   "name": "python3"
  },
  "language_info": {
   "codemirror_mode": {
    "name": "ipython",
    "version": 3
   },
   "file_extension": ".py",
   "mimetype": "text/x-python",
   "name": "python",
   "nbconvert_exporter": "python",
   "pygments_lexer": "ipython3",
   "version": "3.12.1"
  }
 },
 "nbformat": 4,
 "nbformat_minor": 5
}
